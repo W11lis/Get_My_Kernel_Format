{
  "nbformat": 4,
  "nbformat_minor": 0,
  "metadata": {
    "colab": {
      "provenance": [],
      "gpuType": "T4",
      "include_colab_link": true
    },
    "language_info": {
      "name": "python"
    },
    "kernelspec": {
      "name": "python3",
      "display_name": "Python 3"
    },
    "accelerator": "GPU"
  },
  "cells": [
    {
      "cell_type": "markdown",
      "metadata": {
        "id": "view-in-github",
        "colab_type": "text"
      },
      "source": [
        "<a href=\"https://colab.research.google.com/github/W11lis/Get_My_Kernel_Format/blob/main/Pixel8_KVM_Builder_Colab.ipynb\" target=\"_parent\"><img src=\"https://colab.research.google.com/assets/colab-badge.svg\" alt=\"Open In Colab\"/></a>"
      ]
    },
    {
      "cell_type": "markdown",
      "metadata": {
        "id": "EFrWR1liTpKr"
      },
      "source": [
        "# 🔧 Pixel 8 Kernel & pKVM Build (Google Colab)\n",
        "This notebook builds `pvmfw.img` and `vendor_kernel_boot.img` for the Pixel 8,\n",
        "with support for `kvm-arm.mode=nvhe` enabled.\n",
        "\n",
        "⚠️ Assumes Pixel 8 (shiba) and Android 15 sources.\n",
        "\n",
        "---"
      ]
    },
    {
      "cell_type": "code",
      "metadata": {
        "id": "k_k9dDDlTpKu"
      },
      "source": [
        "# ⬇️ Install Dependencies\n",
        "!apt-get update -y\n",
        "!apt-get install -y bc bison build-essential ccache curl flex git libncurses5-dev libssl-dev lz4 python-is-python3 rsync unzip xz-utils zip zlib1g-dev openjdk-11-jdk\n",
        "!apt-get install -y repo"
      ],
      "execution_count": null,
      "outputs": []
    },
    {
      "cell_type": "code",
      "metadata": {
        "id": "JJq4GseRTpKw"
      },
      "source": [
        "# 📁 Create working directory\n",
        "!mkdir -p ~/pixel_kernel && cd ~/pixel_kernel"
      ],
      "execution_count": null,
      "outputs": []
    },
    {
      "cell_type": "code",
      "metadata": {
        "id": "hd5nR8aZTpKw"
      },
      "source": [
        "# 📥 Fetch Kernel Source (Pixel 8 - Android 15 branch)\n",
        "%cd ~/pixel_kernel\n",
        "!git clone https://android.googlesource.com/kernel/manifest.git\n",
        "%cd manifest\n",
        "!repo init -u https://android.googlesource.com/kernel/manifest -b android-gs-shusky-6.1-android15-qpr2-beta\n",
        "!repo sync -c -j8"
      ],
      "execution_count": null,
      "outputs": []
    },
    {
      "cell_type": "code",
      "metadata": {
        "id": "pHZ6B3VjTpKw"
      },
      "source": [
        "# ⚙️ Prepare Environment & Config\n",
        "%cd ~/pixel_kernel/private/gs-google/shiba\n",
        "!make CC=clang ARCH=arm64 shiba_defconfig\n",
        "!make CC=clang ARCH=arm64 pvmfw_defconfig"
      ],
      "execution_count": null,
      "outputs": []
    },
    {
      "cell_type": "code",
      "metadata": {
        "id": "Bhu8CQK4TpKx"
      },
      "source": [
        "# 🧵 Compile Kernel & pvmfw\n",
        "!make CC=clang ARCH=arm64 -j$(nproc)"
      ],
      "execution_count": null,
      "outputs": []
    },
    {
      "cell_type": "code",
      "metadata": {
        "id": "x7u89MbwTpKx"
      },
      "source": [
        "# 📦 Copy Outputs for Download\n",
        "!mkdir -p /content/output\n",
        "!cp arch/arm64/boot/pvmfw.img /content/output/\n",
        "!cp arch/arm64/boot/Image /content/output/kernel.img"
      ],
      "execution_count": null,
      "outputs": []
    },
    {
      "cell_type": "markdown",
      "metadata": {
        "id": "MhOxniihTpKx"
      },
      "source": [
        "✅ When build is done, download your files from `/content/output/`"
      ]
    }
  ]
}